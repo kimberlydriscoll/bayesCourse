{
  "nbformat": 4,
  "nbformat_minor": 0,
  "metadata": {
    "colab": {
      "name": "BayesRule_Pathstream.ipynb",
      "version": "0.3.2",
      "provenance": [],
      "collapsed_sections": [],
      "toc_visible": true,
      "include_colab_link": true
    },
    "kernelspec": {
      "name": "python3",
      "display_name": "Python 3"
    }
  },
  "cells": [
    {
      "cell_type": "markdown",
      "metadata": {
        "id": "view-in-github",
        "colab_type": "text"
      },
      "source": [
        "<a href=\"https://colab.research.google.com/github/kimberlydriscoll/bayesCourse/blob/master/BayesRule_Pathstream.ipynb\" target=\"_parent\"><img src=\"https://colab.research.google.com/assets/colab-badge.svg\" alt=\"Open In Colab\"/></a>"
      ]
    },
    {
      "cell_type": "code",
      "metadata": {
        "id": "BgXnKAdL9iyj",
        "colab_type": "code",
        "colab": {},
        "cellView": "form"
      },
      "source": [
        "#@title\n",
        "# https://pypi.python.org/pypi/pydot\n",
        "!apt-get -qq install -y graphviz && pip install -q pydot\n",
        "import pydot"
      ],
      "execution_count": 0,
      "outputs": []
    },
    {
      "cell_type": "markdown",
      "metadata": {
        "id": "tXz64T8kyvdq",
        "colab_type": "text"
      },
      "source": [
        "#An Introduction to Bayes' Rule\n",
        "\n",
        "---\n",
        "What's Bayes' Rule, you ask? Well, simply, *simply* put, it's a formula used in probability and statistics that helps us become less wrong in our assumptions about a situation as we get additional data about that situation.  \n",
        "\n",
        "It looks a little something like this:\n",
        "\n",
        "$$ P(A|B) = \\frac{P(B|A)*P(A)}{P(B)}$$\n",
        "\n",
        "And if you're looking at that formula and feeling a little faint, grab a glass of water and settle in. This course will get you all of the information you need to get started.\n",
        "\n",
        "\n",
        "##But First, Why?\n",
        "---\n",
        "**Bayes' Rule**, also known as Bayes' Theorem, is an important mathematical formula that makes up the the basis of Bayesian Statistics. Its importance is based off the fact that it accounts, not just for the probability of what we're measuring, but also the effect of new evidence on the possible outcome. You might need this formula if you...\n",
        "* are entering the field of statistics and/or probability\n",
        "* want to get good at Machine Learning\n",
        "* are going into a field where diagnostic tests are important\n",
        "* like refining your ideas after you get new information\n",
        "\n",
        "Bayes' Rule is used formally in a lot of places, but you'll find that Bayes' Rule often puts to formula the way that humans think more generally. Let's say it's 11pm and you're walking upstairs at your house really quietly because you're pretty positive that your kids are asleep. As you head up the stairs, you hear giggling. Given that you hear the giggles, you update your previous assumption (that they're asleep like little angels) to a new, more likely hypothesis, that the kiddos are awake on the other side of the bedroom door. That thought process is a simple application of Bayes' Rule. See? Not so terrifying. *Let's dig in!*\n",
        "\n"
      ]
    },
    {
      "cell_type": "markdown",
      "metadata": {
        "id": "bBDcoAv5LM07",
        "colab_type": "text"
      },
      "source": [
        "##Getting the Most out of this Lesson:\n",
        "In this project, we're going to take a look at Bayes' Rule, also called Bayes' Theory. To do this, you'll need to feel comfortable with some vocabulary and principles from probability and statistics. If it's been a while since you've stretched those muscles, make sure to dig into the \"[Getting Started](https://colab.research.google.com/drive/1Ntln3vZxKzoGyZ_ZxE16dLbxGhq_6Kty#scrollTo=7S_2z-rWznLg&line=6&uniqifier=1)\" section before you move onto the examples."
      ]
    },
    {
      "cell_type": "markdown",
      "metadata": {
        "id": "7S_2z-rWznLg",
        "colab_type": "text"
      },
      "source": [
        "#Getting Started!\n",
        "\n",
        "\n",
        "---\n",
        "\n",
        "**Bayes' Rule**, also known as Bayes' Theorem, is an important mathematical formula that makes up the the basis of Bayesian Statistics. Its importance is based off the fact that it accounts, not just for the probability of what we're measuring but also the effect of new evidence on the possible outcome. Below are some basic vocabulary terms used throughout the course:\n",
        "\n",
        "**Conditional Probability** is the likelihood that event \"A\" happens given that item \"B\" is true. Bayes' is built off of conditional probability. \n",
        "\n",
        "**Frequentist statistics** is a sect of statistics based on how frequently something happens in a given sample set. Bayes' is **not** frequentist.\n",
        "\n",
        "**Prior** is the term used to describe our initial belief (the \"first\" belief, assumption, or hypothesis) in Bayes' Rule. Below, *P(A)* represents the prior. Stated in plain English, it is \"our belief in the probability of event A.\"\" \n",
        "\n",
        "$$ P(A|B) = \\frac{P(B|A)*P(A)}{P(B)}$$\n",
        "\n",
        "**Posterior Belief** is the term used to describe the lefthand side of Bayes' Rule, or the outcome of the equation. Above, *P(A|B)* represents the posterior. Stated in plain English, it is \"the probability of event A given what we know about event B.\"\"\n",
        "\n",
        "**Reading equations \"in English\"** is one of the simplest ways to make a convoluted equation of letters make more sense. Here are some shorthand phrases you might use throughout the rest of the course:\n",
        "* **P(A)** is the probability that event \"A\" will happen\n",
        "* **P(A|B)** is the probability that event \"A\" will happen given what we know about event B.\n",
        "* **P(B|A)** is the probability that event \"B\" will happen given what we know about event A.\n",
        "* **P(A∩B)** is the probability of event A *and* event B.\n",
        "* **P(A∪B)** is the probability of event A *or* event B.\n",
        "\n",
        "Bayes' also allows us to **eliminate probability mass** from consideration, which essentially means that we throw out (no longer compute) the stuff that we know not to be true. \n",
        "\n"
      ]
    },
    {
      "cell_type": "code",
      "metadata": {
        "id": "EO5i9YG62sP5",
        "colab_type": "code",
        "colab": {
          "base_uri": "https://localhost:8080/",
          "height": 421
        },
        "outputId": "65477c65-f974-49f4-b195-a45f87fba8d1"
      },
      "source": [
        "#@title Beginning with Bayes' { display-mode: \"form\" }\n",
        "#@markdown This quick video from YouTube will give you an overview of how Bayes' Rule works.\n",
        "from IPython.display import YouTubeVideo\n",
        "YouTubeVideo('XQoLVl31ZfQ', width=600, height=400)"
      ],
      "execution_count": 3,
      "outputs": [
        {
          "output_type": "execute_result",
          "data": {
            "text/html": [
              "\n",
              "        <iframe\n",
              "            width=\"600\"\n",
              "            height=\"400\"\n",
              "            src=\"https://www.youtube.com/embed/XQoLVl31ZfQ\"\n",
              "            frameborder=\"0\"\n",
              "            allowfullscreen\n",
              "        ></iframe>\n",
              "        "
            ],
            "text/plain": [
              "<IPython.lib.display.YouTubeVideo at 0x7f98ebce2a58>"
            ],
            "image/jpeg": "[encoded data removed]"
          },
          "metadata": {
            "tags": []
          },
          "execution_count": 3
        }
      ]
    },
    {
      "cell_type": "markdown",
      "metadata": {
        "id": "krbIxtrjX-Ne",
        "colab_type": "text"
      },
      "source": [
        "#Bayes' Rule in its Simplest Form\n",
        "Let's start off with flipping some coins. But, since we have Bayes' Rule to help us, let's flip *two* coins. Our assumptions, or our *prior* belief is that one coin is a good coin, meaning one side is heads and one side is tails. The other coin is a tricky coin, meaning *both sides* are heads. Now, at random, someone picks up a coin and flips it. Below, we can see all of the possible options.\n",
        "\n",
        "**Choose heads or tails from the dropdown below & run that block to see all possible outcomes.**"
      ]
    },
    {
      "cell_type": "code",
      "metadata": {
        "id": "RGx47nPL_9c1",
        "colab_type": "code",
        "colab": {
          "base_uri": "https://localhost:8080/",
          "height": 176
        },
        "cellView": "form",
        "outputId": "5c693941-8007-4170-ba38-2236086a7bdb"
      },
      "source": [
        "from graphviz import Digraph\n",
        "\n",
        "styles = {\n",
        "    'top': {'shape': 'rect', 'style': 'filled', 'color': 'white'},\n",
        "    'tails':  {'shape': 'rect', 'style': 'filled', 'color': 'red'},\n",
        "    'heads': {'shape': 'rect', 'style': 'filled', 'color': 'green'},\n",
        "    'qst': {'shape': 'rect'}\n",
        "}\n",
        "\n",
        "example_tree = Digraph()\n",
        "\n",
        "#example_tree.node('top', 'Coin', styles['top'])\n",
        "example_tree.node('q1', 'Good Coin', styles['qst'])\n",
        "\n",
        "example_tree.node('h1', 'Heads', styles['qst'])\n",
        "example_tree.node('t1', 'Tails', styles['qst'])\n",
        "\n",
        "example_tree.node('q2', 'Tricky Coin', styles['qst'])\n",
        "\n",
        "example_tree.node('bh1', 'Heads', styles['qst'])\n",
        "example_tree.node('trick1', 'Heads', styles['qst'])\n",
        "\n",
        "#example_tree.node('q3', 'Is the lecture early in the morning?', styles['qst'])\n",
        "#example_tree.node('no2', 'No ', styles['no'])\n",
        "\n",
        "#example_tree.node('no3', 'No ', styles['no'])\n",
        "#example_tree.node('yes', 'Yes', styles['yes'])\n",
        "\n",
        "#example_tree.edge('top', 'q1')\n",
        "\n",
        "example_tree.edge('q1', 'h1')\n",
        "example_tree.edge('q1', 't1')\n",
        "\n",
        "example_tree.edge('q2', 'bh1')\n",
        "example_tree.edge('q2', 'trick1')\n",
        "\n",
        "#example_tree.edge('q2', 'q3', 'Yes')\n",
        "#example_tree.edge('q2', 'no2', 'No')\n",
        "\n",
        "#example_tree.edge('q3', 'no3', 'Yes')\n",
        "#example_tree.edge('q3', 'yes', 'No')\n",
        "\n",
        "run: \"auto\"\n",
        "flipcoin = \"heads\" #@param [\"heads\", \"tails\"]\n",
        "if flipcoin == 'heads':\n",
        "  example_tree.node('bh1', 'Heads', styles['heads'])\n",
        "  example_tree.node('h1', 'Heads', styles['heads'])\n",
        "  example_tree.node('trick1', 'Heads', styles['heads'])\n",
        "  example_tree.node('t1', 'Tails', styles['qst'])\n",
        "elif flipcoin == 'tails':\n",
        "  example_tree.node('t1', 'Tails', styles['tails'])\n",
        "  example_tree.node('bh1', 'Heads', styles['qst'])\n",
        "  example_tree.node('h1', 'Heads', styles['qst'])\n",
        "  example_tree.node('trick1', 'Heads', styles['qst'])\n",
        "  \n",
        "example_tree"
      ],
      "execution_count": 106,
      "outputs": [
        {
          "output_type": "execute_result",
          "data": {
            "text/plain": [
              "<graphviz.dot.Digraph at 0x7fe143b842e8>"
            ],
            "image/svg+xml": "<?xml version=\"1.0\" encoding=\"UTF-8\" standalone=\"no\"?>\n<!DOCTYPE svg PUBLIC \"-//W3C//DTD SVG 1.1//EN\"\n \"http://www.w3.org/Graphics/SVG/1.1/DTD/svg11.dtd\">\n<!-- Generated by graphviz version 2.40.1 (20161225.0304)\n -->\n<!-- Title: %3 Pages: 1 -->\n<svg width=\"278pt\" height=\"116pt\"\n viewBox=\"0.00 0.00 278.00 116.00\" xmlns=\"http://www.w3.org/2000/svg\" xmlns:xlink=\"http://www.w3.org/1999/xlink\">\n<g id=\"graph0\" class=\"graph\" transform=\"scale(1 1) rotate(0) translate(4 112)\">\n<title>%3</title>\n<polygon fill=\"#ffffff\" stroke=\"transparent\" points=\"-4,4 -4,-112 274,-112 274,4 -4,4\"/>\n<!-- q1 -->\n<g id=\"node1\" class=\"node\">\n<title>q1</title>\n<polygon fill=\"none\" stroke=\"#000000\" points=\"89,-108 7,-108 7,-72 89,-72 89,-108\"/>\n<text text-anchor=\"middle\" x=\"48\" y=\"-86.3\" font-family=\"Times,serif\" font-size=\"14.00\" fill=\"#000000\">Good Coin</text>\n</g>\n<!-- h1 -->\n<g id=\"node2\" class=\"node\">\n<title>h1</title>\n<polygon fill=\"#00ff00\" stroke=\"#00ff00\" points=\"54,-36 0,-36 0,0 54,0 54,-36\"/>\n<text text-anchor=\"middle\" x=\"27\" y=\"-14.3\" font-family=\"Times,serif\" font-size=\"14.00\" fill=\"#000000\">Heads</text>\n</g>\n<!-- q1&#45;&gt;h1 -->\n<g id=\"edge1\" class=\"edge\">\n<title>q1&#45;&gt;h1</title>\n<path fill=\"none\" stroke=\"#000000\" d=\"M42.7008,-71.8314C40.4302,-64.0463 37.7254,-54.7729 35.206,-46.1347\"/>\n<polygon fill=\"#000000\" stroke=\"#000000\" points=\"38.5306,-45.0332 32.3705,-36.4133 31.8106,-46.9933 38.5306,-45.0332\"/>\n</g>\n<!-- t1 -->\n<g id=\"node3\" class=\"node\">\n<title>t1</title>\n<polygon fill=\"none\" stroke=\"#000000\" points=\"126,-36 72,-36 72,0 126,0 126,-36\"/>\n<text text-anchor=\"middle\" x=\"99\" y=\"-14.3\" font-family=\"Times,serif\" font-size=\"14.00\" fill=\"#000000\">Tails</text>\n</g>\n<!-- q1&#45;&gt;t1 -->\n<g id=\"edge2\" class=\"edge\">\n<title>q1&#45;&gt;t1</title>\n<path fill=\"none\" stroke=\"#000000\" d=\"M60.8695,-71.8314C66.6835,-63.6232 73.6696,-53.7606 80.0646,-44.7323\"/>\n<polygon fill=\"#000000\" stroke=\"#000000\" points=\"83.0331,-46.5966 85.9573,-36.4133 77.321,-42.5505 83.0331,-46.5966\"/>\n</g>\n<!-- q2 -->\n<g id=\"node4\" class=\"node\">\n<title>q2</title>\n<polygon fill=\"none\" stroke=\"#000000\" points=\"250,-108 164,-108 164,-72 250,-72 250,-108\"/>\n<text text-anchor=\"middle\" x=\"207\" y=\"-86.3\" font-family=\"Times,serif\" font-size=\"14.00\" fill=\"#000000\">Tricky Coin</text>\n</g>\n<!-- bh1 -->\n<g id=\"node5\" class=\"node\">\n<title>bh1</title>\n<polygon fill=\"#00ff00\" stroke=\"#00ff00\" points=\"198,-36 144,-36 144,0 198,0 198,-36\"/>\n<text text-anchor=\"middle\" x=\"171\" y=\"-14.3\" font-family=\"Times,serif\" font-size=\"14.00\" fill=\"#000000\">Heads</text>\n</g>\n<!-- q2&#45;&gt;bh1 -->\n<g id=\"edge3\" class=\"edge\">\n<title>q2&#45;&gt;bh1</title>\n<path fill=\"none\" stroke=\"#000000\" d=\"M197.9157,-71.8314C193.9385,-63.8771 189.1845,-54.369 184.7861,-45.5723\"/>\n<polygon fill=\"#000000\" stroke=\"#000000\" points=\"187.8093,-43.7923 180.2066,-36.4133 181.5483,-46.9228 187.8093,-43.7923\"/>\n</g>\n<!-- trick1 -->\n<g id=\"node6\" class=\"node\">\n<title>trick1</title>\n<polygon fill=\"#00ff00\" stroke=\"#00ff00\" points=\"270,-36 216,-36 216,0 270,0 270,-36\"/>\n<text text-anchor=\"middle\" x=\"243\" y=\"-14.3\" font-family=\"Times,serif\" font-size=\"14.00\" fill=\"#000000\">Heads</text>\n</g>\n<!-- q2&#45;&gt;trick1 -->\n<g id=\"edge4\" class=\"edge\">\n<title>q2&#45;&gt;trick1</title>\n<path fill=\"none\" stroke=\"#000000\" d=\"M216.0843,-71.8314C220.0615,-63.8771 224.8155,-54.369 229.2139,-45.5723\"/>\n<polygon fill=\"#000000\" stroke=\"#000000\" points=\"232.4517,-46.9228 233.7934,-36.4133 226.1907,-43.7923 232.4517,-46.9228\"/>\n</g>\n</g>\n</svg>\n"
          },
          "metadata": {
            "tags": []
          },
          "execution_count": 106
        }
      ]
    },
    {
      "cell_type": "markdown",
      "metadata": {
        "id": "Ip88gKHXiMR2",
        "colab_type": "text"
      },
      "source": [
        "##Heads!\n",
        "Now, an assumption we'll make is that the person calls heads. In Bayes' Rule, we'll call this our *prior.* We can now eliminate probability mass from our equation, meaning we can throw out all possibility of tails (again, because we *know* that the individual has called heads). But we want to know - **how likely is it that we're holding the good coin?**\n",
        "\n",
        "Let's put it into our formula to start figuring it out:\n",
        "\n",
        "We want to know the probability of \"goodCoin\" given \"calledHeads\".\n",
        "\n",
        "$$ P(A|B) = \\frac{P(B|A)*P(A)}{P(B)}$$\n",
        "\n",
        "Let's try it out in our formula:\n",
        "\n",
        "$$ \\frac{P(calledHeads|goodCoin)*P(goodCoin)}{P(calledHeads)}$$\n",
        "\n",
        "and see it in action:"
      ]
    },
    {
      "cell_type": "code",
      "metadata": {
        "id": "07m7HFyrkQI9",
        "colab_type": "code",
        "colab": {
          "base_uri": "https://localhost:8080/",
          "height": 176
        },
        "outputId": "9fc9cd2f-ff9d-4d35-a5f4-c9705bd0b950"
      },
      "source": [
        "#@title Once we call heads... { run: \"auto\", vertical-output: true, display-mode: \"form\" }\n",
        "styles = {\n",
        "    'top': {'shape': 'rect', 'style': 'filled', 'color': 'white'},\n",
        "    'tails':  {'shape': 'rect', 'style': 'filled', 'color': 'red'},\n",
        "    'heads': {'shape': 'rect', 'style': 'filled', 'color': 'green'},\n",
        "    'qst': {'shape': 'rect'}\n",
        "}\n",
        "\n",
        "example_tree = Digraph()\n",
        "\n",
        "#example_tree.node('top', 'Coin', styles['top'])\n",
        "example_tree.node('q1', 'Good Coin', styles['qst'])\n",
        "\n",
        "example_tree.node('h1', 'Heads', styles['heads'])\n",
        "\n",
        "example_tree.node('q2', 'Tricky Coin', styles['qst'])\n",
        "\n",
        "example_tree.node('bh1', 'Heads', styles['heads'])\n",
        "example_tree.node('trick1', 'Heads', styles['heads'])\n",
        "\n",
        "\n",
        "example_tree.edge('q1', 'h1')\n",
        "\n",
        "example_tree.edge('q2', 'bh1')\n",
        "example_tree.edge('q2', 'trick1')\n",
        "\n",
        "\n",
        "\n",
        "example_tree\n"
      ],
      "execution_count": 99,
      "outputs": [
        {
          "output_type": "execute_result",
          "data": {
            "text/plain": [
              "<graphviz.dot.Digraph at 0x7fe143b7f1d0>"
            ],
            "image/svg+xml": "<?xml version=\"1.0\" encoding=\"UTF-8\" standalone=\"no\"?>\n<!DOCTYPE svg PUBLIC \"-//W3C//DTD SVG 1.1//EN\"\n \"http://www.w3.org/Graphics/SVG/1.1/DTD/svg11.dtd\">\n<!-- Generated by graphviz version 2.40.1 (20161225.0304)\n -->\n<!-- Title: %3 Pages: 1 -->\n<svg width=\"245pt\" height=\"116pt\"\n viewBox=\"0.00 0.00 245.00 116.00\" xmlns=\"http://www.w3.org/2000/svg\" xmlns:xlink=\"http://www.w3.org/1999/xlink\">\n<g id=\"graph0\" class=\"graph\" transform=\"scale(1 1) rotate(0) translate(4 112)\">\n<title>%3</title>\n<polygon fill=\"#ffffff\" stroke=\"transparent\" points=\"-4,4 -4,-112 241,-112 241,4 -4,4\"/>\n<!-- q1 -->\n<g id=\"node1\" class=\"node\">\n<title>q1</title>\n<polygon fill=\"none\" stroke=\"#000000\" points=\"82,-108 0,-108 0,-72 82,-72 82,-108\"/>\n<text text-anchor=\"middle\" x=\"41\" y=\"-86.3\" font-family=\"Times,serif\" font-size=\"14.00\" fill=\"#000000\">Good Coin</text>\n</g>\n<!-- h1 -->\n<g id=\"node2\" class=\"node\">\n<title>h1</title>\n<polygon fill=\"#00ff00\" stroke=\"#00ff00\" points=\"68,-36 14,-36 14,0 68,0 68,-36\"/>\n<text text-anchor=\"middle\" x=\"41\" y=\"-14.3\" font-family=\"Times,serif\" font-size=\"14.00\" fill=\"#000000\">Heads</text>\n</g>\n<!-- q1&#45;&gt;h1 -->\n<g id=\"edge1\" class=\"edge\">\n<title>q1&#45;&gt;h1</title>\n<path fill=\"none\" stroke=\"#000000\" d=\"M41,-71.8314C41,-64.131 41,-54.9743 41,-46.4166\"/>\n<polygon fill=\"#000000\" stroke=\"#000000\" points=\"44.5001,-46.4132 41,-36.4133 37.5001,-46.4133 44.5001,-46.4132\"/>\n</g>\n<!-- q2 -->\n<g id=\"node3\" class=\"node\">\n<title>q2</title>\n<polygon fill=\"none\" stroke=\"#000000\" points=\"207,-108 121,-108 121,-72 207,-72 207,-108\"/>\n<text text-anchor=\"middle\" x=\"164\" y=\"-86.3\" font-family=\"Times,serif\" font-size=\"14.00\" fill=\"#000000\">Tricky Coin</text>\n</g>\n<!-- bh1 -->\n<g id=\"node4\" class=\"node\">\n<title>bh1</title>\n<polygon fill=\"#00ff00\" stroke=\"#00ff00\" points=\"165,-36 111,-36 111,0 165,0 165,-36\"/>\n<text text-anchor=\"middle\" x=\"138\" y=\"-14.3\" font-family=\"Times,serif\" font-size=\"14.00\" fill=\"#000000\">Heads</text>\n</g>\n<!-- q2&#45;&gt;bh1 -->\n<g id=\"edge2\" class=\"edge\">\n<title>q2&#45;&gt;bh1</title>\n<path fill=\"none\" stroke=\"#000000\" d=\"M157.4391,-71.8314C154.5973,-63.9617 151.2063,-54.5712 148.0581,-45.8533\"/>\n<polygon fill=\"#000000\" stroke=\"#000000\" points=\"151.3377,-44.63 144.6492,-36.4133 144.7538,-47.0076 151.3377,-44.63\"/>\n</g>\n<!-- trick1 -->\n<g id=\"node5\" class=\"node\">\n<title>trick1</title>\n<polygon fill=\"#00ff00\" stroke=\"#00ff00\" points=\"237,-36 183,-36 183,0 237,0 237,-36\"/>\n<text text-anchor=\"middle\" x=\"210\" y=\"-14.3\" font-family=\"Times,serif\" font-size=\"14.00\" fill=\"#000000\">Heads</text>\n</g>\n<!-- q2&#45;&gt;trick1 -->\n<g id=\"edge3\" class=\"edge\">\n<title>q2&#45;&gt;trick1</title>\n<path fill=\"none\" stroke=\"#000000\" d=\"M175.6077,-71.8314C180.7978,-63.7079 187.0232,-53.9637 192.7425,-45.0118\"/>\n<polygon fill=\"#000000\" stroke=\"#000000\" points=\"195.8015,-46.7246 198.236,-36.4133 189.9026,-42.9559 195.8015,-46.7246\"/>\n</g>\n</g>\n</svg>\n"
          },
          "metadata": {
            "tags": []
          },
          "execution_count": 99
        }
      ]
    },
    {
      "cell_type": "markdown",
      "metadata": {
        "id": "PxAgYRFN5kZH",
        "colab_type": "text"
      },
      "source": [
        "###What would the probability be?\n",
        "\n",
        "We want to know the probability of \"goodCoin\" given \"calledHeads\".\n",
        "\n",
        "$$ P(A|B) = \\frac{P(B|A)*P(A)}{P(B)}$$\n",
        "\n",
        "* We know that **P(B|A)** is equal to $\\frac{1}{2}$ because the likelihood of calling heads *given that* we have the good coin is 50%.\n",
        "\n",
        "* We know that **P(A)** is equal to $\\frac{1}{2}$ because the likelihood that we have the good coin rather than the tricky coin is 50%.\n",
        "\n",
        "* We know that **P(A)** is equal to $\\frac{3}{4}$ because the likelihood the overall number of heads we *could have called* versus the total number of calls we could have made is 3 heads to 4 possible calls (75%). \n",
        "\n",
        "\n",
        "Let's try it out in our formula:\n",
        "\n",
        "$$P(A|B) = \\frac{.5*.5}{.75}$$\n",
        "\n",
        "Or:\n",
        "\n",
        "$$P(A|B) = .33333 = \\frac{1}{3}$$\n",
        "\n"
      ]
    },
    {
      "cell_type": "markdown",
      "metadata": {
        "id": "C21HAidP8PGA",
        "colab_type": "text"
      },
      "source": [
        "##Heads Again!\n",
        "But let's say we aren't that assured in a 1/3 possibility that we're flipping the good coin. Let's say we flip again and, **again** heads is called. It would look like this:"
      ]
    },
    {
      "cell_type": "code",
      "metadata": {
        "id": "JtoS8zJ78lCb",
        "colab_type": "code",
        "colab": {
          "base_uri": "https://localhost:8080/",
          "height": 272
        },
        "cellView": "form",
        "outputId": "455dab76-bc0c-493b-a625-52ce28688b7f"
      },
      "source": [
        "from graphviz import Digraph\n",
        "\n",
        "styles = {\n",
        "    'roundover': {'shape': 'rect', 'style': 'filled', 'color': 'gray'},\n",
        "    'tails':  {'shape': 'rect', 'style': 'filled', 'color': 'red'},\n",
        "    'heads': {'shape': 'rect', 'style': 'filled', 'color': 'green'},\n",
        "    'qst': {'shape': 'rect'}\n",
        "}\n",
        "\n",
        "round_two = Digraph()\n",
        "\n",
        "round_two.node('q1', 'Good Coin', styles['roundover'])\n",
        "\n",
        "round_two.node('h1', 'Heads', styles['roundover'])\n",
        "\n",
        "round_two.node('q2', 'Tricky Coin', styles['roundover'])\n",
        "\n",
        "round_two.node('bh1', 'Heads', styles['roundover'])\n",
        "round_two.node('trick1', 'Heads', styles['roundover'])\n",
        "\n",
        "round_two.node('h2', 'Heads', styles['qst'])\n",
        "round_two.node('t2', 'Tails', styles['qst'])\n",
        "\n",
        "round_two.node('bh2', 'Heads', styles['qst'])\n",
        "round_two.node('trick2', 'Heads', styles['qst'])\n",
        "\n",
        "round_two.node('bh12', 'Heads', styles['qst'])\n",
        "round_two.node('trick12', 'Heads', styles['qst'])\n",
        "\n",
        "\n",
        "round_two.edge('q1', 'h1')\n",
        "\n",
        "round_two.edge('q2', 'bh1')\n",
        "round_two.edge('q2', 'trick1')\n",
        "\n",
        "round_two.edge('bh1', 'bh2')\n",
        "round_two.edge('bh1', 'trick2')\n",
        "\n",
        "round_two.edge('trick1', 'bh12')\n",
        "round_two.edge('trick1', 'trick12')\n",
        "\n",
        "round_two.edge('h1', 'h2')\n",
        "round_two.edge('h1', 't2')\n",
        "\n",
        "run: \"auto\"\n",
        "flipcoin = \"heads\" #@param [\"heads\", \"tails\"]\n",
        "if flipcoin == 'heads':\n",
        "  round_two.node('bh2', 'Heads', styles['heads'])\n",
        "  round_two.node('bh12', 'Heads', styles['heads'])\n",
        "  round_two.node('h2', 'Heads', styles['heads'])\n",
        "  round_two.node('trick2', 'Heads', styles['heads'])\n",
        "  round_two.node('trick12', 'Heads', styles['heads'])\n",
        "  round_two.node('t2', 'Tails', styles['qst'])\n",
        "elif flipcoin == 'tails':\n",
        "  round_two.node('t2', 'Tails', styles['tails'])\n",
        "  round_two.node('bh2', 'Heads', styles['qst'])\n",
        "  round_two.node('bh12', 'Heads', styles['qst'])\n",
        "  round_two.node('h2', 'Heads', styles['qst'])\n",
        "  round_two.node('trick2', 'Heads', styles['qst'])\n",
        "  round_two.node('trick12', 'Heads', styles['qst'])\n",
        "\n",
        "round_two"
      ],
      "execution_count": 108,
      "outputs": [
        {
          "output_type": "execute_result",
          "data": {
            "text/plain": [
              "<graphviz.dot.Digraph at 0x7fe1436b64a8>"
            ],
            "image/svg+xml": "<?xml version=\"1.0\" encoding=\"UTF-8\" standalone=\"no\"?>\n<!DOCTYPE svg PUBLIC \"-//W3C//DTD SVG 1.1//EN\"\n \"http://www.w3.org/Graphics/SVG/1.1/DTD/svg11.dtd\">\n<!-- Generated by graphviz version 2.40.1 (20161225.0304)\n -->\n<!-- Title: %3 Pages: 1 -->\n<svg width=\"422pt\" height=\"188pt\"\n viewBox=\"0.00 0.00 422.00 188.00\" xmlns=\"http://www.w3.org/2000/svg\" xmlns:xlink=\"http://www.w3.org/1999/xlink\">\n<g id=\"graph0\" class=\"graph\" transform=\"scale(1 1) rotate(0) translate(4 184)\">\n<title>%3</title>\n<polygon fill=\"#ffffff\" stroke=\"transparent\" points=\"-4,4 -4,-184 418,-184 418,4 -4,4\"/>\n<!-- q1 -->\n<g id=\"node1\" class=\"node\">\n<title>q1</title>\n<polygon fill=\"#c0c0c0\" stroke=\"#c0c0c0\" points=\"104,-180 22,-180 22,-144 104,-144 104,-180\"/>\n<text text-anchor=\"middle\" x=\"63\" y=\"-158.3\" font-family=\"Times,serif\" font-size=\"14.00\" fill=\"#000000\">Good Coin</text>\n</g>\n<!-- h1 -->\n<g id=\"node2\" class=\"node\">\n<title>h1</title>\n<polygon fill=\"#c0c0c0\" stroke=\"#c0c0c0\" points=\"90,-108 36,-108 36,-72 90,-72 90,-108\"/>\n<text text-anchor=\"middle\" x=\"63\" y=\"-86.3\" font-family=\"Times,serif\" font-size=\"14.00\" fill=\"#000000\">Heads</text>\n</g>\n<!-- q1&#45;&gt;h1 -->\n<g id=\"edge1\" class=\"edge\">\n<title>q1&#45;&gt;h1</title>\n<path fill=\"none\" stroke=\"#000000\" d=\"M63,-143.8314C63,-136.131 63,-126.9743 63,-118.4166\"/>\n<polygon fill=\"#000000\" stroke=\"#000000\" points=\"66.5001,-118.4132 63,-108.4133 59.5001,-118.4133 66.5001,-118.4132\"/>\n</g>\n<!-- h2 -->\n<g id=\"node6\" class=\"node\">\n<title>h2</title>\n<polygon fill=\"#00ff00\" stroke=\"#00ff00\" points=\"54,-36 0,-36 0,0 54,0 54,-36\"/>\n<text text-anchor=\"middle\" x=\"27\" y=\"-14.3\" font-family=\"Times,serif\" font-size=\"14.00\" fill=\"#000000\">Heads</text>\n</g>\n<!-- h1&#45;&gt;h2 -->\n<g id=\"edge8\" class=\"edge\">\n<title>h1&#45;&gt;h2</title>\n<path fill=\"none\" stroke=\"#000000\" d=\"M53.9157,-71.8314C49.9385,-63.8771 45.1845,-54.369 40.7861,-45.5723\"/>\n<polygon fill=\"#000000\" stroke=\"#000000\" points=\"43.8093,-43.7923 36.2066,-36.4133 37.5483,-46.9228 43.8093,-43.7923\"/>\n</g>\n<!-- t2 -->\n<g id=\"node7\" class=\"node\">\n<title>t2</title>\n<polygon fill=\"none\" stroke=\"#000000\" points=\"126,-36 72,-36 72,0 126,0 126,-36\"/>\n<text text-anchor=\"middle\" x=\"99\" y=\"-14.3\" font-family=\"Times,serif\" font-size=\"14.00\" fill=\"#000000\">Tails</text>\n</g>\n<!-- h1&#45;&gt;t2 -->\n<g id=\"edge9\" class=\"edge\">\n<title>h1&#45;&gt;t2</title>\n<path fill=\"none\" stroke=\"#000000\" d=\"M72.0843,-71.8314C76.0615,-63.8771 80.8155,-54.369 85.2139,-45.5723\"/>\n<polygon fill=\"#000000\" stroke=\"#000000\" points=\"88.4517,-46.9228 89.7934,-36.4133 82.1907,-43.7923 88.4517,-46.9228\"/>\n</g>\n<!-- q2 -->\n<g id=\"node3\" class=\"node\">\n<title>q2</title>\n<polygon fill=\"#c0c0c0\" stroke=\"#c0c0c0\" points=\"322,-180 236,-180 236,-144 322,-144 322,-180\"/>\n<text text-anchor=\"middle\" x=\"279\" y=\"-158.3\" font-family=\"Times,serif\" font-size=\"14.00\" fill=\"#000000\">Tricky Coin</text>\n</g>\n<!-- bh1 -->\n<g id=\"node4\" class=\"node\">\n<title>bh1</title>\n<polygon fill=\"#c0c0c0\" stroke=\"#c0c0c0\" points=\"270,-108 216,-108 216,-72 270,-72 270,-108\"/>\n<text text-anchor=\"middle\" x=\"243\" y=\"-86.3\" font-family=\"Times,serif\" font-size=\"14.00\" fill=\"#000000\">Heads</text>\n</g>\n<!-- q2&#45;&gt;bh1 -->\n<g id=\"edge2\" class=\"edge\">\n<title>q2&#45;&gt;bh1</title>\n<path fill=\"none\" stroke=\"#000000\" d=\"M269.9157,-143.8314C265.9385,-135.8771 261.1845,-126.369 256.7861,-117.5723\"/>\n<polygon fill=\"#000000\" stroke=\"#000000\" points=\"259.8093,-115.7923 252.2066,-108.4133 253.5483,-118.9228 259.8093,-115.7923\"/>\n</g>\n<!-- trick1 -->\n<g id=\"node5\" class=\"node\">\n<title>trick1</title>\n<polygon fill=\"#c0c0c0\" stroke=\"#c0c0c0\" points=\"342,-108 288,-108 288,-72 342,-72 342,-108\"/>\n<text text-anchor=\"middle\" x=\"315\" y=\"-86.3\" font-family=\"Times,serif\" font-size=\"14.00\" fill=\"#000000\">Heads</text>\n</g>\n<!-- q2&#45;&gt;trick1 -->\n<g id=\"edge3\" class=\"edge\">\n<title>q2&#45;&gt;trick1</title>\n<path fill=\"none\" stroke=\"#000000\" d=\"M288.0843,-143.8314C292.0615,-135.8771 296.8155,-126.369 301.2139,-117.5723\"/>\n<polygon fill=\"#000000\" stroke=\"#000000\" points=\"304.4517,-118.9228 305.7934,-108.4133 298.1907,-115.7923 304.4517,-118.9228\"/>\n</g>\n<!-- bh2 -->\n<g id=\"node8\" class=\"node\">\n<title>bh2</title>\n<polygon fill=\"#00ff00\" stroke=\"#00ff00\" points=\"198,-36 144,-36 144,0 198,0 198,-36\"/>\n<text text-anchor=\"middle\" x=\"171\" y=\"-14.3\" font-family=\"Times,serif\" font-size=\"14.00\" fill=\"#000000\">Heads</text>\n</g>\n<!-- bh1&#45;&gt;bh2 -->\n<g id=\"edge4\" class=\"edge\">\n<title>bh1&#45;&gt;bh2</title>\n<path fill=\"none\" stroke=\"#000000\" d=\"M224.8314,-71.8314C216.2848,-63.2848 205.9443,-52.9443 196.6198,-43.6198\"/>\n<polygon fill=\"#000000\" stroke=\"#000000\" points=\"198.9592,-41.0095 189.4133,-36.4133 194.0095,-45.9592 198.9592,-41.0095\"/>\n</g>\n<!-- trick2 -->\n<g id=\"node9\" class=\"node\">\n<title>trick2</title>\n<polygon fill=\"#00ff00\" stroke=\"#00ff00\" points=\"270,-36 216,-36 216,0 270,0 270,-36\"/>\n<text text-anchor=\"middle\" x=\"243\" y=\"-14.3\" font-family=\"Times,serif\" font-size=\"14.00\" fill=\"#000000\">Heads</text>\n</g>\n<!-- bh1&#45;&gt;trick2 -->\n<g id=\"edge5\" class=\"edge\">\n<title>bh1&#45;&gt;trick2</title>\n<path fill=\"none\" stroke=\"#000000\" d=\"M243,-71.8314C243,-64.131 243,-54.9743 243,-46.4166\"/>\n<polygon fill=\"#000000\" stroke=\"#000000\" points=\"246.5001,-46.4132 243,-36.4133 239.5001,-46.4133 246.5001,-46.4132\"/>\n</g>\n<!-- bh12 -->\n<g id=\"node10\" class=\"node\">\n<title>bh12</title>\n<polygon fill=\"#00ff00\" stroke=\"#00ff00\" points=\"342,-36 288,-36 288,0 342,0 342,-36\"/>\n<text text-anchor=\"middle\" x=\"315\" y=\"-14.3\" font-family=\"Times,serif\" font-size=\"14.00\" fill=\"#000000\">Heads</text>\n</g>\n<!-- trick1&#45;&gt;bh12 -->\n<g id=\"edge6\" class=\"edge\">\n<title>trick1&#45;&gt;bh12</title>\n<path fill=\"none\" stroke=\"#000000\" d=\"M315,-71.8314C315,-64.131 315,-54.9743 315,-46.4166\"/>\n<polygon fill=\"#000000\" stroke=\"#000000\" points=\"318.5001,-46.4132 315,-36.4133 311.5001,-46.4133 318.5001,-46.4132\"/>\n</g>\n<!-- trick12 -->\n<g id=\"node11\" class=\"node\">\n<title>trick12</title>\n<polygon fill=\"#00ff00\" stroke=\"#00ff00\" points=\"414,-36 360,-36 360,0 414,0 414,-36\"/>\n<text text-anchor=\"middle\" x=\"387\" y=\"-14.3\" font-family=\"Times,serif\" font-size=\"14.00\" fill=\"#000000\">Heads</text>\n</g>\n<!-- trick1&#45;&gt;trick12 -->\n<g id=\"edge7\" class=\"edge\">\n<title>trick1&#45;&gt;trick12</title>\n<path fill=\"none\" stroke=\"#000000\" d=\"M333.1686,-71.8314C341.7152,-63.2848 352.0557,-52.9443 361.3802,-43.6198\"/>\n<polygon fill=\"#000000\" stroke=\"#000000\" points=\"363.9905,-45.9592 368.5867,-36.4133 359.0408,-41.0095 363.9905,-45.9592\"/>\n</g>\n</g>\n</svg>\n"
          },
          "metadata": {
            "tags": []
          },
          "execution_count": 108
        }
      ]
    },
    {
      "cell_type": "markdown",
      "metadata": {
        "id": "i00nHOWSBD9y",
        "colab_type": "text"
      },
      "source": [
        "###What would the probability be?\n",
        "\n",
        "Again, we want to know the probability of \"goodCoin\" given \"calledHeads\". But, we have *even more information* this time around, because we've collected new evidence.\n",
        "\n",
        "$$ P(A|B) = \\frac{P(B|A)*P(A)}{P(B)}$$\n",
        "\n",
        "* We know that **P(B|A)** is equal to $\\frac{1}{2}$ because the likelihood of calling heads *given that* we have the good coin is 50%. That factor hasn't changed.\n",
        "\n",
        "* We know that **P(A)** is equal to $\\frac{1}{2}$ because the likelihood that we have the good coin rather than the tricky coin is 50%. Again, this factor hasn't changed - we still only have two coins to choose from.\n",
        "\n",
        "* We know that **P(A)** is equal to $\\frac{5}{6}$ because the likelihood the overall number of heads we *could have called* versus the total number of calls we could have made is 5 heads to 6 possible calls (~83%). \n",
        "\n",
        "\n",
        "Let's try it out in our formula:\n",
        "\n",
        "$$P(A|B) = \\frac{.5*.5}{.8333}$$\n",
        "\n",
        "Or:\n",
        "\n",
        "$$P(A|B) = .20 = \\frac{1}{5}$$"
      ]
    },
    {
      "cell_type": "markdown",
      "metadata": {
        "id": "PqCtPiLxDqkr",
        "colab_type": "text"
      },
      "source": [
        "# A little more complex..."
      ]
    },
    {
      "cell_type": "code",
      "metadata": {
        "id": "KI1AmEcSDvw3",
        "colab_type": "code",
        "colab": {
          "base_uri": "https://localhost:8080/",
          "height": 421
        },
        "outputId": "08f6ed5b-68a9-4f8a-e0a7-ac92a40a4dca"
      },
      "source": [
        "#@title The Next Step with Bayes' { display-mode: \"form\" }\n",
        "#@markdown Take another couple minutes with Trefor to learn how we can extend our knowledge of Bayes' to the next level.\n",
        "from IPython.display import YouTubeVideo\n",
        "YouTubeVideo('HaYbxQC61pw', width=600, height=400)"
      ],
      "execution_count": 104,
      "outputs": [
        {
          "output_type": "execute_result",
          "data": {
            "text/html": [
              "\n",
              "        <iframe\n",
              "            width=\"600\"\n",
              "            height=\"400\"\n",
              "            src=\"https://www.youtube.com/embed/HaYbxQC61pw\"\n",
              "            frameborder=\"0\"\n",
              "            allowfullscreen\n",
              "        ></iframe>\n",
              "        "
            ],
            "text/plain": [
              "<IPython.lib.display.YouTubeVideo at 0x7fe143b73e10>"
            ],
            "image/jpeg": "[encoded data removed]"
          },
          "metadata": {
            "tags": []
          },
          "execution_count": 104
        }
      ]
    },
    {
      "cell_type": "markdown",
      "metadata": {
        "id": "KOXcmfulEoY6",
        "colab_type": "text"
      },
      "source": [
        "##Let's try this with an example of our own...\n",
        "---\n",
        "\n",
        "At the beginning, we talked about heading upstairs really quietly because we didn't want to wake any sleeping kids. Our initial assumption (*prior*) was built around our knowledge of the *time* against the likelihood that our children were asleep.\n",
        "\n",
        "* Let's assume that, for the time 10pm, we know there's a 75% chance that the kids are asleep.\n",
        "\n",
        "**But now** we have new information - about giggling! Based on prior observation, we can say that, if we know the kids are asleep, there's a 99% chance there's no giggling. (*We'll leave a 1% wiggle room for sleep-giggling and/or YouTube clips left on in the room.*)\n",
        "\n",
        "That means:\n",
        "\n",
        "$$ -giggles = .99$$\n",
        "$$ giggles = .01$$\n",
        "\n",
        "###Simple enough, right?\n",
        "Yes, and no. Like in Trefor's video, it's possible here, too, to have a false positive. You may hear *no giggling* but the kids might still *be awake*. For that, we have to make another assumption. \n",
        "\n",
        "Based on our past experience peering into their room at night, we know that there's about an 80% chance that, if they're awake, they're giggling. That means that there's a 20% chance they're awake and *not giggling.*  We, too, can expand Bayes' Rule to encompass a false positive:\n",
        "\n",
        "$$ P(A|B) = \\frac{P(B|A)*P(A)}{P(B|A)*P(A) + P(B|~A)*P(~A)}$$\n",
        "\n",
        "Or, in our terms:\n",
        "\n",
        "$$P(asleep|~giggling) = \\frac{P(~giggling|asleep)*P(asleep)}{P(~giggling|asleep)*P(asleep) + P(~giggling|~asleep)*P(~asleep)}$$"
      ]
    },
    {
      "cell_type": "markdown",
      "metadata": {
        "id": "FvyEcYudSIEV",
        "colab_type": "text"
      },
      "source": [
        "![Laughing](https://giphy.com/gifs/reJOGQ43nNeGk/html5)"
      ]
    },
    {
      "cell_type": "markdown",
      "metadata": {
        "id": "L1T88ueWUXuj",
        "colab_type": "text"
      },
      "source": [
        "###Let's Try It Out!\n",
        "Let's take everything we've learned and figure out how likely it is that those kids actually are sleeping, given that we hear giggling at 10pm.\n",
        "\n",
        "To solve, let's recollect our data in one place:\n",
        "* At 10pm, there is a 75% chance the kids are asleep.\n",
        "* Given that the kids are asleep, there is a 99% chance there is no giggling.\n",
        "* Given that the kids are awake, there is an 80% chance they're giggling.\n",
        "\n",
        "$$ P(A|B) = \\frac{P(B|A)*P(A)}{P(B|A)*P(A) + P(B|~A)*P(~A)}$$\n",
        "\n",
        "Now we simply plug in our terms:\n",
        "\n",
        "$$ P(asleep|giggling) = \\frac{.01*.75}{.01*.75 + .8*.25}$$\n",
        "\n",
        "Simplified into:\n",
        "\n",
        "$$ P(asleep|giggling) = \\frac{.0075}{.2075} = .036$$\n",
        "\n",
        "**Stated simply, there is only a 3.6% chance your kids are asleep at 10pm if you hear giggling.**\n",
        "\n",
        "\n"
      ]
    },
    {
      "cell_type": "markdown",
      "metadata": {
        "id": "07Hm6MjAYjpp",
        "colab_type": "text"
      },
      "source": [
        "![Sleepy](https://giphy.com/gifs/h7DyKGq716JMI/html5)"
      ]
    },
    {
      "cell_type": "markdown",
      "metadata": {
        "id": "wB4oWrdlYnmr",
        "colab_type": "text"
      },
      "source": [
        "###Now You!\n",
        "---\n",
        "Given what we've assumed above, how likely is it that the kids are **asleep** given that **we do not hear giggling**?\n",
        "\n",
        "Take a few minutes and try this on your own, then click below for the solution."
      ]
    },
    {
      "cell_type": "markdown",
      "metadata": {
        "id": "cSKLnfubZ9Pr",
        "colab_type": "text"
      },
      "source": [
        "###Solution\n",
        "\n",
        "Click below for solution."
      ]
    },
    {
      "cell_type": "code",
      "metadata": {
        "id": "bS34H6ggaGOb",
        "colab_type": "code",
        "colab": {},
        "cellView": "both"
      },
      "source": [
        "#Task: It's 10pm - how likely is it that the kids are asleep given that we do not hear giggling?\n",
        "\n",
        "# P(asleep | ~giggling) = P(~giggling | asleep )*P(asleep) / (P(~giggling|asleep)*P(asleep)+ P(~giggling | ~asleep)*P(~asleep))\n",
        "# P(asleep | ~giggling) = (.99*.75)/(.99*.75 + .2*.25)\n",
        "# P(asleep | ~giggling) = .7425/.7925 = .9369\n",
        "\n",
        "# Stated plainly, there is a 93.69% chance the kids are asleep at 10pm given that you do not hear giggling."
      ],
      "execution_count": 0,
      "outputs": []
    }
  ]
}